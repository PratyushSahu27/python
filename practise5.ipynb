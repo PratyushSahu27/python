{
  "nbformat": 4,
  "nbformat_minor": 0,
  "metadata": {
    "colab": {
      "name": "practise5.ipynb",
      "provenance": [],
      "authorship_tag": "ABX9TyOShWg6QxHe54Sdxm7TidKi",
      "include_colab_link": true
    },
    "kernelspec": {
      "name": "python3",
      "display_name": "Python 3"
    },
    "language_info": {
      "name": "python"
    }
  },
  "cells": [
    {
      "cell_type": "markdown",
      "metadata": {
        "id": "view-in-github",
        "colab_type": "text"
      },
      "source": [
        "<a href=\"https://colab.research.google.com/github/PratyushSahu27/python/blob/main/practise5.ipynb\" target=\"_parent\"><img src=\"https://colab.research.google.com/assets/colab-badge.svg\" alt=\"Open In Colab\"/></a>"
      ]
    },
    {
      "cell_type": "markdown",
      "metadata": {
        "id": "_jtRCr-OFZX7"
      },
      "source": [
        "Sets in Python\n"
      ]
    },
    {
      "cell_type": "code",
      "metadata": {
        "id": "XQWRVo5pCFfu"
      },
      "source": [
        "set = {'orange','apple','potato','onion'}"
      ],
      "execution_count": 1,
      "outputs": []
    },
    {
      "cell_type": "code",
      "metadata": {
        "colab": {
          "base_uri": "https://localhost:8080/"
        },
        "id": "2-RnPav5DQ9C",
        "outputId": "1923f561-d1c9-4555-f995-35e9ff2ad2e4"
      },
      "source": [
        "print(type(set))"
      ],
      "execution_count": 2,
      "outputs": [
        {
          "output_type": "stream",
          "text": [
            "<class 'set'>\n"
          ],
          "name": "stdout"
        }
      ]
    },
    {
      "cell_type": "code",
      "metadata": {
        "colab": {
          "base_uri": "https://localhost:8080/"
        },
        "id": "SeoP4jcDDTvg",
        "outputId": "e3dd2433-3602-4061-df16-9f4c65311d62"
      },
      "source": [
        "set = {}\n",
        "print(type(set))"
      ],
      "execution_count": 3,
      "outputs": [
        {
          "output_type": "stream",
          "text": [
            "<class 'dict'>\n"
          ],
          "name": "stdout"
        }
      ]
    },
    {
      "cell_type": "code",
      "metadata": {
        "colab": {
          "base_uri": "https://localhost:8080/"
        },
        "id": "xaFFCqhMDa4f",
        "outputId": "6dce7353-3298-41f9-84dd-cd9c8a511419"
      },
      "source": [
        "set = {'orange','apple','potato','onion'}\n",
        "for item in set:\n",
        "    print(item)"
      ],
      "execution_count": 4,
      "outputs": [
        {
          "output_type": "stream",
          "text": [
            "apple\n",
            "potato\n",
            "orange\n",
            "onion\n"
          ],
          "name": "stdout"
        }
      ]
    },
    {
      "cell_type": "code",
      "metadata": {
        "colab": {
          "base_uri": "https://localhost:8080/"
        },
        "id": "Ub6y7Q7wE5RP",
        "outputId": "6e780280-14f8-4fee-98fe-bab1dde69d2c"
      },
      "source": [
        "print(\"orange\" in set)"
      ],
      "execution_count": 6,
      "outputs": [
        {
          "output_type": "stream",
          "text": [
            "True\n"
          ],
          "name": "stdout"
        }
      ]
    },
    {
      "cell_type": "code",
      "metadata": {
        "colab": {
          "base_uri": "https://localhost:8080/"
        },
        "id": "oRhtpnhbE8eA",
        "outputId": "a1de11fd-bbaa-4643-d9c3-039525548890"
      },
      "source": [
        "print(\"lemon\" in set)"
      ],
      "execution_count": 7,
      "outputs": [
        {
          "output_type": "stream",
          "text": [
            "False\n"
          ],
          "name": "stdout"
        }
      ]
    },
    {
      "cell_type": "code",
      "metadata": {
        "colab": {
          "base_uri": "https://localhost:8080/"
        },
        "id": "P1yPiOFlFFDm",
        "outputId": "d20ef432-162d-4504-ccb5-77711110dfa8"
      },
      "source": [
        "set.add(\"lemon\")\n",
        "print(set)"
      ],
      "execution_count": 8,
      "outputs": [
        {
          "output_type": "stream",
          "text": [
            "{'potato', 'orange', 'apple', 'lemon', 'onion'}\n"
          ],
          "name": "stdout"
        }
      ]
    },
    {
      "cell_type": "code",
      "metadata": {
        "id": "maWip7UkGRHI"
      },
      "source": [
        "set.add(34)"
      ],
      "execution_count": 9,
      "outputs": []
    },
    {
      "cell_type": "code",
      "metadata": {
        "colab": {
          "base_uri": "https://localhost:8080/"
        },
        "id": "0i81a7y2GU3v",
        "outputId": "c11d1f0b-8258-4605-ad8e-8f06ba084d10"
      },
      "source": [
        "print(set)"
      ],
      "execution_count": 10,
      "outputs": [
        {
          "output_type": "stream",
          "text": [
            "{34, 'potato', 'orange', 'apple', 'lemon', 'onion'}\n"
          ],
          "name": "stdout"
        }
      ]
    },
    {
      "cell_type": "code",
      "metadata": {
        "id": "6N10I5svGWZF"
      },
      "source": [
        "li = [1,4,5,6.89,3.14,\"hello\",\"namaste\"]"
      ],
      "execution_count": 13,
      "outputs": []
    },
    {
      "cell_type": "code",
      "metadata": {
        "colab": {
          "base_uri": "https://localhost:8080/"
        },
        "id": "b1xow-sqGgMc",
        "outputId": "f6d5aafe-a154-41a5-d8f5-bd7b52241db2"
      },
      "source": [
        "print(li)"
      ],
      "execution_count": 14,
      "outputs": [
        {
          "output_type": "stream",
          "text": [
            "[1, 4, 5, 6.89, 3.14, 'hello', 'namaste']\n"
          ],
          "name": "stdout"
        }
      ]
    },
    {
      "cell_type": "code",
      "metadata": {
        "colab": {
          "base_uri": "https://localhost:8080/"
        },
        "id": "AQmat9ITGhpM",
        "outputId": "0b65a430-8bf5-4aa3-b44c-1cda83f35fa5"
      },
      "source": [
        "set.remove('onion')\n",
        "print(set)"
      ],
      "execution_count": 15,
      "outputs": [
        {
          "output_type": "stream",
          "text": [
            "{34, 'potato', 'orange', 'apple', 'lemon'}\n"
          ],
          "name": "stdout"
        }
      ]
    },
    {
      "cell_type": "markdown",
      "metadata": {
        "id": "fUcOefwfIESO"
      },
      "source": [
        "Dictionary in Python"
      ]
    },
    {
      "cell_type": "code",
      "metadata": {
        "colab": {
          "base_uri": "https://localhost:8080/"
        },
        "id": "AYPFbEmLHKk-",
        "outputId": "564a4ea2-0985-43b6-8a4a-52b30de9ffd8"
      },
      "source": [
        "person = {\"Name\":\"Pratyush\",\"Age\" : 20, \"Country\" : \"India\"}\n",
        "print(person)"
      ],
      "execution_count": 17,
      "outputs": [
        {
          "output_type": "stream",
          "text": [
            "{'Name': 'Pratyush', 'Age': 20, 'Country': 'India'}\n"
          ],
          "name": "stdout"
        }
      ]
    },
    {
      "cell_type": "code",
      "metadata": {
        "colab": {
          "base_uri": "https://localhost:8080/",
          "height": 166
        },
        "id": "jb736MhhIt7W",
        "outputId": "65b92fb1-b30a-48ac-a708-029a1215b8cd"
      },
      "source": [
        "print(person[name])"
      ],
      "execution_count": 18,
      "outputs": [
        {
          "output_type": "error",
          "ename": "NameError",
          "evalue": "ignored",
          "traceback": [
            "\u001b[0;31m---------------------------------------------------------------------------\u001b[0m",
            "\u001b[0;31mNameError\u001b[0m                                 Traceback (most recent call last)",
            "\u001b[0;32m<ipython-input-18-1da54f57b90c>\u001b[0m in \u001b[0;36m<module>\u001b[0;34m()\u001b[0m\n\u001b[0;32m----> 1\u001b[0;31m \u001b[0mprint\u001b[0m\u001b[0;34m(\u001b[0m\u001b[0mperson\u001b[0m\u001b[0;34m[\u001b[0m\u001b[0mname\u001b[0m\u001b[0;34m]\u001b[0m\u001b[0;34m)\u001b[0m\u001b[0;34m\u001b[0m\u001b[0;34m\u001b[0m\u001b[0m\n\u001b[0m",
            "\u001b[0;31mNameError\u001b[0m: name 'name' is not defined"
          ]
        }
      ]
    },
    {
      "cell_type": "code",
      "metadata": {
        "colab": {
          "base_uri": "https://localhost:8080/"
        },
        "id": "q9z4naouI2td",
        "outputId": "b6e64703-835d-4889-d4f2-d62505bd8015"
      },
      "source": [
        "print(person[\"Name\"])"
      ],
      "execution_count": 19,
      "outputs": [
        {
          "output_type": "stream",
          "text": [
            "Pratyush\n"
          ],
          "name": "stdout"
        }
      ]
    },
    {
      "cell_type": "code",
      "metadata": {
        "colab": {
          "base_uri": "https://localhost:8080/"
        },
        "id": "5DNrQ8MFI8uF",
        "outputId": "d1e02d32-5a9b-4773-8f2d-92abba22aea5"
      },
      "source": [
        "print(\"Length = \",len(person),\", Type = \",type(person))"
      ],
      "execution_count": 22,
      "outputs": [
        {
          "output_type": "stream",
          "text": [
            "Length =  3 , Type =  <class 'dict'>\n"
          ],
          "name": "stdout"
        }
      ]
    },
    {
      "cell_type": "code",
      "metadata": {
        "colab": {
          "base_uri": "https://localhost:8080/"
        },
        "id": "xtpNvxvsJ0DM",
        "outputId": "9591577c-989e-4a86-c57a-a9e6238101df"
      },
      "source": [
        "print(person.get(\"Name\"))"
      ],
      "execution_count": 23,
      "outputs": [
        {
          "output_type": "stream",
          "text": [
            "Pratyush\n"
          ],
          "name": "stdout"
        }
      ]
    },
    {
      "cell_type": "code",
      "metadata": {
        "colab": {
          "base_uri": "https://localhost:8080/"
        },
        "id": "TiD01i-6LhTa",
        "outputId": "aa671727-86dc-4391-ec3f-f696d0282636"
      },
      "source": [
        "print(person.keys())"
      ],
      "execution_count": 24,
      "outputs": [
        {
          "output_type": "stream",
          "text": [
            "dict_keys(['Name', 'Age', 'Country'])\n"
          ],
          "name": "stdout"
        }
      ]
    },
    {
      "cell_type": "code",
      "metadata": {
        "colab": {
          "base_uri": "https://localhost:8080/"
        },
        "id": "4-XYKeO1LnDr",
        "outputId": "3fbeb6e9-0023-42e2-ed5c-36f46cfdd8f6"
      },
      "source": [
        "print(person.values())"
      ],
      "execution_count": 25,
      "outputs": [
        {
          "output_type": "stream",
          "text": [
            "dict_values(['Pratyush', 20, 'India'])\n"
          ],
          "name": "stdout"
        }
      ]
    },
    {
      "cell_type": "code",
      "metadata": {
        "colab": {
          "base_uri": "https://localhost:8080/"
        },
        "id": "bEN6TnVxLrb6",
        "outputId": "0c9e2e47-55fe-480d-a3eb-25842e412bea"
      },
      "source": [
        "person[\"Name\"] = \"abcde\"\n",
        "person[\"Age\"] = 30\n",
        "print(person)"
      ],
      "execution_count": 26,
      "outputs": [
        {
          "output_type": "stream",
          "text": [
            "{'Name': 'abcde', 'Age': 30, 'Country': 'India'}\n"
          ],
          "name": "stdout"
        }
      ]
    },
    {
      "cell_type": "code",
      "metadata": {
        "colab": {
          "base_uri": "https://localhost:8080/"
        },
        "id": "myUipb1gMhNx",
        "outputId": "f34ef1ce-4a86-41a6-a3ff-9a98fbdd6600"
      },
      "source": [
        "person.update({\"Country\":\"Russia\"})\n",
        "print(person)"
      ],
      "execution_count": 29,
      "outputs": [
        {
          "output_type": "stream",
          "text": [
            "{'Name': 'abcde', 'Age': 30, 'Country': 'Russia'}\n"
          ],
          "name": "stdout"
        }
      ]
    },
    {
      "cell_type": "code",
      "metadata": {
        "id": "w0-KvC2BM6PD"
      },
      "source": [
        "person.update({\"mnb\":65,\"laksj\":\"iuyt\"})\n",
        "person[\"ID\"] = 342"
      ],
      "execution_count": 30,
      "outputs": []
    },
    {
      "cell_type": "code",
      "metadata": {
        "colab": {
          "base_uri": "https://localhost:8080/"
        },
        "id": "Uk2Q7yQnNooC",
        "outputId": "3b471937-7510-4da4-e95c-658ce58071e1"
      },
      "source": [
        "print(person)"
      ],
      "execution_count": 31,
      "outputs": [
        {
          "output_type": "stream",
          "text": [
            "{'Name': 'abcde', 'Age': 30, 'Country': 'Russia', 'mnb': 65, 'laksj': 'iuyt', 'ID': 342}\n"
          ],
          "name": "stdout"
        }
      ]
    },
    {
      "cell_type": "code",
      "metadata": {
        "colab": {
          "base_uri": "https://localhost:8080/"
        },
        "id": "PpdaK50tNp-S",
        "outputId": "56422bcc-fc6b-4abc-b14c-f75cf3a3c806"
      },
      "source": [
        "person.pop(\"mnb\")\n",
        "print(person)"
      ],
      "execution_count": 32,
      "outputs": [
        {
          "output_type": "stream",
          "text": [
            "{'Name': 'abcde', 'Age': 30, 'Country': 'Russia', 'laksj': 'iuyt', 'ID': 342}\n"
          ],
          "name": "stdout"
        }
      ]
    },
    {
      "cell_type": "code",
      "metadata": {
        "colab": {
          "base_uri": "https://localhost:8080/"
        },
        "id": "TpzEVAhMONwS",
        "outputId": "e85ee05d-57cd-4971-eff1-bc5c30136a98"
      },
      "source": [
        "person.popitem()\n",
        "print(person)"
      ],
      "execution_count": 33,
      "outputs": [
        {
          "output_type": "stream",
          "text": [
            "{'Name': 'abcde', 'Age': 30, 'Country': 'Russia', 'laksj': 'iuyt'}\n"
          ],
          "name": "stdout"
        }
      ]
    },
    {
      "cell_type": "code",
      "metadata": {
        "colab": {
          "base_uri": "https://localhost:8080/"
        },
        "id": "uy42RyB9OTHN",
        "outputId": "927fb95d-f682-42be-dc14-12ae41ae6cd0"
      },
      "source": [
        "del person[\"laksj\"]\n",
        "print(person)"
      ],
      "execution_count": 34,
      "outputs": [
        {
          "output_type": "stream",
          "text": [
            "{'Name': 'abcde', 'Age': 30, 'Country': 'Russia'}\n"
          ],
          "name": "stdout"
        }
      ]
    },
    {
      "cell_type": "code",
      "metadata": {
        "id": "0NZPdjlAOjlp"
      },
      "source": [
        "person.clear()"
      ],
      "execution_count": 36,
      "outputs": []
    },
    {
      "cell_type": "code",
      "metadata": {
        "id": "lHBO8vyPOvux"
      },
      "source": [
        ""
      ],
      "execution_count": null,
      "outputs": []
    }
  ]
}