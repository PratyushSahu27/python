{
  "nbformat": 4,
  "nbformat_minor": 0,
  "metadata": {
    "colab": {
      "name": "practise6.ipynb",
      "provenance": [],
      "authorship_tag": "ABX9TyPIkHcLP2unGzjfaXI1QEaL",
      "include_colab_link": true
    },
    "kernelspec": {
      "name": "python3",
      "display_name": "Python 3"
    },
    "language_info": {
      "name": "python"
    }
  },
  "cells": [
    {
      "cell_type": "markdown",
      "metadata": {
        "id": "view-in-github",
        "colab_type": "text"
      },
      "source": [
        "<a href=\"https://colab.research.google.com/github/PratyushSahu27/python/blob/main/practise6.ipynb\" target=\"_parent\"><img src=\"https://colab.research.google.com/assets/colab-badge.svg\" alt=\"Open In Colab\"/></a>"
      ]
    },
    {
      "cell_type": "code",
      "metadata": {
        "id": "scECCYAgcu9Y"
      },
      "source": [
        "int = '9'"
      ],
      "execution_count": null,
      "outputs": []
    },
    {
      "cell_type": "code",
      "metadata": {
        "colab": {
          "base_uri": "https://localhost:8080/",
          "height": 35
        },
        "id": "n42HKPuy7bew",
        "outputId": "d74ad145-242b-4999-91a0-5c6cc18e9713"
      },
      "source": [
        "int"
      ],
      "execution_count": null,
      "outputs": [
        {
          "output_type": "execute_result",
          "data": {
            "application/vnd.google.colaboratory.intrinsic+json": {
              "type": "string"
            },
            "text/plain": [
              "'9'"
            ]
          },
          "metadata": {
            "tags": []
          },
          "execution_count": 2
        }
      ]
    },
    {
      "cell_type": "code",
      "metadata": {
        "colab": {
          "base_uri": "https://localhost:8080/"
        },
        "id": "JjYPYuNT7hfe",
        "outputId": "32e4560b-84e7-4f45-eb5f-267fc6dd8676"
      },
      "source": [
        "st = 'mahstrgfj'\n",
        "print(st[3:0:-1])"
      ],
      "execution_count": null,
      "outputs": [
        {
          "output_type": "stream",
          "text": [
            "sha\n"
          ],
          "name": "stdout"
        }
      ]
    },
    {
      "cell_type": "code",
      "metadata": {
        "id": "DraLPgpn-jWW",
        "colab": {
          "base_uri": "https://localhost:8080/"
        },
        "outputId": "afc575eb-dcbe-4e50-b641-11dffae483a0"
      },
      "source": [
        "n = int(input())\n",
        "for i in range(n):\n",
        "        print(i*i)"
      ],
      "execution_count": null,
      "outputs": [
        {
          "output_type": "stream",
          "text": [
            "10\n",
            "0\n",
            "1\n",
            "4\n",
            "9\n",
            "16\n",
            "25\n",
            "36\n",
            "49\n",
            "64\n",
            "81\n"
          ],
          "name": "stdout"
        }
      ]
    },
    {
      "cell_type": "code",
      "metadata": {
        "colab": {
          "base_uri": "https://localhost:8080/"
        },
        "id": "jcQ0avt3sHZR",
        "outputId": "0bd5497b-efda-46bf-a457-4db8c8c32b71"
      },
      "source": [
        "n=10\n",
        "for i in range(1,n+1):\n",
        "    print(i,end=' | ')"
      ],
      "execution_count": null,
      "outputs": [
        {
          "output_type": "stream",
          "text": [
            "1 | 2 | 3 | 4 | 5 | 6 | 7 | 8 | 9 | 10 | "
          ],
          "name": "stdout"
        }
      ]
    },
    {
      "cell_type": "code",
      "metadata": {
        "id": "T81cyqDg1BiJ",
        "colab": {
          "base_uri": "https://localhost:8080/"
        },
        "outputId": "d9c9c0c2-b20b-44de-db1b-0b7900c9c0e0"
      },
      "source": [
        "x = int(input(\"please enter a value : \"))\n",
        "y = x + 1\n",
        "print(y)\n",
        "print(f\"x:{x}, y:{y}\")"
      ],
      "execution_count": 2,
      "outputs": [
        {
          "output_type": "stream",
          "text": [
            "please enter a value : 5\n",
            "6\n",
            "x:5, y:6\n"
          ],
          "name": "stdout"
        }
      ]
    },
    {
      "cell_type": "code",
      "metadata": {
        "colab": {
          "base_uri": "https://localhost:8080/"
        },
        "id": "jEAc_Ig73bEk",
        "outputId": "1038f086-4b5a-471a-a41e-3b8b41eecd9a"
      },
      "source": [
        "fruit = \"apple\"\n",
        "print(fruit[1])\n",
        "print(fruit[1:-1])\n",
        "print(fruit[:-3])\n",
        "print(10%3)\n",
        "print(bool(4))"
      ],
      "execution_count": 3,
      "outputs": [
        {
          "output_type": "stream",
          "text": [
            "p\n",
            "ppl\n",
            "ap\n",
            "1\n",
            "True\n"
          ],
          "name": "stdout"
        }
      ]
    },
    {
      "cell_type": "code",
      "metadata": {
        "colab": {
          "base_uri": "https://localhost:8080/"
        },
        "id": "AHwGXSO_3tm6",
        "outputId": "ed592928-7225-400c-b29f-84311d1fb6a5"
      },
      "source": [
        "x = int(input())\n",
        "while x!=0:\n",
        "    print(x*x-x)\n",
        "    x-=1\n"
      ],
      "execution_count": 5,
      "outputs": [
        {
          "output_type": "stream",
          "text": [
            "6\n",
            "30\n",
            "20\n",
            "12\n",
            "6\n",
            "2\n",
            "0\n"
          ],
          "name": "stdout"
        }
      ]
    },
    {
      "cell_type": "code",
      "metadata": {
        "colab": {
          "base_uri": "https://localhost:8080/"
        },
        "id": "hF6YUnHf4PYS",
        "outputId": "2e39d551-212e-4ab1-a284-5bb0e865b4ab"
      },
      "source": [
        "import math\n",
        "x = int(input())\n",
        "y = float(input())\n",
        "\n",
        "print(math.ceil(x/y))\n",
        "print(math.floor(x/y))"
      ],
      "execution_count": 8,
      "outputs": [
        {
          "output_type": "stream",
          "text": [
            "6\n",
            "35.76\n",
            "1\n",
            "0\n"
          ],
          "name": "stdout"
        }
      ]
    },
    {
      "cell_type": "code",
      "metadata": {
        "colab": {
          "base_uri": "https://localhost:8080/",
          "height": 183
        },
        "id": "eNiQQkCz5GpZ",
        "outputId": "e3d35b50-3a89-4547-d4aa-0aeebbb5d8e4"
      },
      "source": [
        "xyz = (2,4,6,7,8,9)\n",
        "print(math.lcm(xyz))"
      ],
      "execution_count": 9,
      "outputs": [
        {
          "output_type": "error",
          "ename": "AttributeError",
          "evalue": "ignored",
          "traceback": [
            "\u001b[0;31m---------------------------------------------------------------------------\u001b[0m",
            "\u001b[0;31mAttributeError\u001b[0m                            Traceback (most recent call last)",
            "\u001b[0;32m<ipython-input-9-0b78a9ae99b0>\u001b[0m in \u001b[0;36m<module>\u001b[0;34m()\u001b[0m\n\u001b[1;32m      1\u001b[0m \u001b[0mxyz\u001b[0m \u001b[0;34m=\u001b[0m \u001b[0;34m(\u001b[0m\u001b[0;36m2\u001b[0m\u001b[0;34m,\u001b[0m\u001b[0;36m4\u001b[0m\u001b[0;34m,\u001b[0m\u001b[0;36m6\u001b[0m\u001b[0;34m,\u001b[0m\u001b[0;36m7\u001b[0m\u001b[0;34m,\u001b[0m\u001b[0;36m8\u001b[0m\u001b[0;34m,\u001b[0m\u001b[0;36m9\u001b[0m\u001b[0;34m)\u001b[0m\u001b[0;34m\u001b[0m\u001b[0;34m\u001b[0m\u001b[0m\n\u001b[0;32m----> 2\u001b[0;31m \u001b[0mprint\u001b[0m\u001b[0;34m(\u001b[0m\u001b[0mmath\u001b[0m\u001b[0;34m.\u001b[0m\u001b[0mlcm\u001b[0m\u001b[0;34m(\u001b[0m\u001b[0mxyz\u001b[0m\u001b[0;34m)\u001b[0m\u001b[0;34m)\u001b[0m\u001b[0;34m\u001b[0m\u001b[0;34m\u001b[0m\u001b[0m\n\u001b[0m",
            "\u001b[0;31mAttributeError\u001b[0m: module 'math' has no attribute 'lcm'"
          ]
        }
      ]
    },
    {
      "cell_type": "code",
      "metadata": {
        "id": "aaRkR9q95h3y"
      },
      "source": [
        "string = \"Hello my name is Pratyush Sahu\\nWhat's your name?\""
      ],
      "execution_count": 10,
      "outputs": []
    },
    {
      "cell_type": "code",
      "metadata": {
        "id": "6NV_ZN6uCWuh"
      },
      "source": [
        "ar = string.split()"
      ],
      "execution_count": 11,
      "outputs": []
    },
    {
      "cell_type": "code",
      "metadata": {
        "colab": {
          "base_uri": "https://localhost:8080/"
        },
        "id": "5pkG4NLgCasI",
        "outputId": "f67c9ac5-6803-4887-a0d9-fedd03fddfb2"
      },
      "source": [
        "ar"
      ],
      "execution_count": 12,
      "outputs": [
        {
          "output_type": "execute_result",
          "data": {
            "text/plain": [
              "['Hello', 'my', 'name', 'is', 'Pratyush', 'Sahu', \"What's\", 'your', 'name?']"
            ]
          },
          "metadata": {
            "tags": []
          },
          "execution_count": 12
        }
      ]
    },
    {
      "cell_type": "code",
      "metadata": {
        "colab": {
          "base_uri": "https://localhost:8080/"
        },
        "id": "b-MEmy2DCbW4",
        "outputId": "658559e1-ccee-4891-ee77-8b846c60e792"
      },
      "source": [
        "for i in range(0,len(ar),2):\n",
        "  ar[i].upper()\n",
        "ar"
      ],
      "execution_count": 16,
      "outputs": [
        {
          "output_type": "execute_result",
          "data": {
            "text/plain": [
              "['Hello', 'my', 'name', 'is', 'Pratyush', 'Sahu', \"What's\", 'your', 'name?']"
            ]
          },
          "metadata": {
            "tags": []
          },
          "execution_count": 16
        }
      ]
    },
    {
      "cell_type": "code",
      "metadata": {
        "colab": {
          "base_uri": "https://localhost:8080/"
        },
        "id": "sNQ0GfjMIHtg",
        "outputId": "b4e395a9-abad-4d2f-dcc0-c04bbd6de71b"
      },
      "source": [
        "|ar"
      ],
      "execution_count": 15,
      "outputs": [
        {
          "output_type": "execute_result",
          "data": {
            "text/plain": [
              "['Hello', 'my', 'name', 'is', 'Pratyush', 'Sahu', \"What's\", 'your', 'name?']"
            ]
          },
          "metadata": {
            "tags": []
          },
          "execution_count": 15
        }
      ]
    },
    {
      "cell_type": "code",
      "metadata": {
        "colab": {
          "base_uri": "https://localhost:8080/"
        },
        "id": "qdsXA7bxIPG8",
        "outputId": "06483289-6f8e-4a7d-d771-16e80c3216a7"
      },
      "source": [
        "for i in range(0,8,2):\n",
        "  print(i)\n",
        "  i= i-1"
      ],
      "execution_count": 17,
      "outputs": [
        {
          "output_type": "stream",
          "text": [
            "0\n",
            "2\n",
            "4\n",
            "6\n"
          ],
          "name": "stdout"
        }
      ]
    },
    {
      "cell_type": "code",
      "metadata": {
        "id": "O8W0_LXQIeP3"
      },
      "source": [
        ""
      ],
      "execution_count": null,
      "outputs": []
    }
  ]
}