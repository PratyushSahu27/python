{
  "nbformat": 4,
  "nbformat_minor": 0,
  "metadata": {
    "colab": {
      "name": "assignment1.ipynb",
      "provenance": [],
      "authorship_tag": "ABX9TyOUAsz2vmW7InTAx5n/oYGx",
      "include_colab_link": true
    },
    "kernelspec": {
      "name": "python3",
      "display_name": "Python 3"
    },
    "language_info": {
      "name": "python"
    }
  },
  "cells": [
    {
      "cell_type": "markdown",
      "metadata": {
        "id": "view-in-github",
        "colab_type": "text"
      },
      "source": [
        "<a href=\"https://colab.research.google.com/github/PratyushSahu27/python/blob/main/assignment1.ipynb\" target=\"_parent\"><img src=\"https://colab.research.google.com/assets/colab-badge.svg\" alt=\"Open In Colab\"/></a>"
      ]
    },
    {
      "cell_type": "code",
      "metadata": {
        "id": "mX7qF70bDWMB"
      },
      "source": [
        "data = '''turboslayer@gmail.com\n",
        "someone@outlook.com\n",
        "crashtv@gov.in\n",
        "blue_defender@gmail.com\n",
        "logan@yahoo.com\n",
        "ironmerc@gov.in\n",
        "steeltitan@outlook.com\n",
        "stealthedefender@yahoo.com\n",
        "blaze_assault@gov.in\n",
        "venom_fate@yahoo.com\n",
        "dark_side@yahoo.com\n",
        "fataldestiny@yahoo.com\n",
        "ultimatebeast@outlook.com\n",
        "masked_titan@gmail.com\n",
        "frozen_gunner@yahoo.com\n",
        "username_copied@gov.in\n",
        "whos_ur_buddy@outlook.com\n",
        "unfinished_sentenc@gov.in\n",
        "all_gone@gov.in\n",
        "something@gmail.com\n",
        "president@gmail.com\n",
        "tinfoilhat@gmail.com\n",
        "anonymouse@yahoo.com\n",
        "definitely_not_an_athlete@outlook.com\n",
        "dropout@gov.in\n",
        "paw_friend@outlook.com\n",
        "test_name_please_ignore@gov.in\n",
        "heyyou@gov.in\n",
        "a_distraction@yahoo.com\n",
        "thegodfatherpart4@gov.in\n",
        "unfriendme@outlook.com\n",
        "doodles@gmail.com\n",
        "fluffycookie@yahoo.com\n",
        "theintolerant@gmail.com\n",
        "fourhour@yahoo.com\n",
        "toastedwithcheese@gmail.com\n",
        "futureking@yahoo.com\n",
        "coolshirtbruh@outlook.com\n",
        "kentucky@yahoo.com\n",
        "chocolate@gmail.com\n",
        "saintbroseph@yahoo.com\n",
        "just_chillin@gmail.com\n",
        "ghostface@gov.in\n",
        "bigfootisreal@yahoo.com\n",
        "newbie@yahoo.com\n",
        "alienware@outlook.com\n",
        "chrishemsworth@outlook.com\n",
        "nachocheesefries@outlook.com\n",
        "reginageorge@gov.in\n",
        "harmless_potato@outlook.com\n",
        "frostedcupcake@outlook.com\n",
        "avocadorable@outlook.com\n",
        "pixie_dust@gmail.com\n",
        "chopsuey@yahoo.com\n",
        "iron_man@gov.in\n",
        "lemon_ade@outlook.com\n",
        "cerial_killer@outlook.com\n",
        "light_year@gov.in\n",
        "phoenix@outlook.com\n",
        "harry_potter@outlook.com'''"
      ],
      "execution_count": 2,
      "outputs": []
    },
    {
      "cell_type": "code",
      "metadata": {
        "colab": {
          "base_uri": "https://localhost:8080/"
        },
        "id": "tY7V-vIPDZWK",
        "outputId": "447c5930-9dd0-42c2-9f6a-95363cb3d915"
      },
      "source": [
        "mailIDs = data.split()\n",
        "mailIDs"
      ],
      "execution_count": 3,
      "outputs": [
        {
          "output_type": "execute_result",
          "data": {
            "text/plain": [
              "['turboslayer@gmail.com',\n",
              " 'someone@outlook.com',\n",
              " 'crashtv@gov.in',\n",
              " 'blue_defender@gmail.com',\n",
              " 'logan@yahoo.com',\n",
              " 'ironmerc@gov.in',\n",
              " 'steeltitan@outlook.com',\n",
              " 'stealthedefender@yahoo.com',\n",
              " 'blaze_assault@gov.in',\n",
              " 'venom_fate@yahoo.com',\n",
              " 'dark_side@yahoo.com',\n",
              " 'fataldestiny@yahoo.com',\n",
              " 'ultimatebeast@outlook.com',\n",
              " 'masked_titan@gmail.com',\n",
              " 'frozen_gunner@yahoo.com',\n",
              " 'username_copied@gov.in',\n",
              " 'whos_ur_buddy@outlook.com',\n",
              " 'unfinished_sentenc@gov.in',\n",
              " 'all_gone@gov.in',\n",
              " 'something@gmail.com',\n",
              " 'president@gmail.com',\n",
              " 'tinfoilhat@gmail.com',\n",
              " 'anonymouse@yahoo.com',\n",
              " 'definitely_not_an_athlete@outlook.com',\n",
              " 'dropout@gov.in',\n",
              " 'paw_friend@outlook.com',\n",
              " 'test_name_please_ignore@gov.in',\n",
              " 'heyyou@gov.in',\n",
              " 'a_distraction@yahoo.com',\n",
              " 'thegodfatherpart4@gov.in',\n",
              " 'unfriendme@outlook.com',\n",
              " 'doodles@gmail.com',\n",
              " 'fluffycookie@yahoo.com',\n",
              " 'theintolerant@gmail.com',\n",
              " 'fourhour@yahoo.com',\n",
              " 'toastedwithcheese@gmail.com',\n",
              " 'futureking@yahoo.com',\n",
              " 'coolshirtbruh@outlook.com',\n",
              " 'kentucky@yahoo.com',\n",
              " 'chocolate@gmail.com',\n",
              " 'saintbroseph@yahoo.com',\n",
              " 'just_chillin@gmail.com',\n",
              " 'ghostface@gov.in',\n",
              " 'bigfootisreal@yahoo.com',\n",
              " 'newbie@yahoo.com',\n",
              " 'alienware@outlook.com',\n",
              " 'chrishemsworth@outlook.com',\n",
              " 'nachocheesefries@outlook.com',\n",
              " 'reginageorge@gov.in',\n",
              " 'harmless_potato@outlook.com',\n",
              " 'frostedcupcake@outlook.com',\n",
              " 'avocadorable@outlook.com',\n",
              " 'pixie_dust@gmail.com',\n",
              " 'chopsuey@yahoo.com',\n",
              " 'iron_man@gov.in',\n",
              " 'lemon_ade@outlook.com',\n",
              " 'cerial_killer@outlook.com',\n",
              " 'light_year@gov.in',\n",
              " 'phoenix@outlook.com',\n",
              " 'harry_potter@outlook.com']"
            ]
          },
          "metadata": {
            "tags": []
          },
          "execution_count": 3
        }
      ]
    },
    {
      "cell_type": "code",
      "metadata": {
        "colab": {
          "base_uri": "https://localhost:8080/"
        },
        "id": "J8CRjwUqDuiQ",
        "outputId": "7f36ec0f-9297-4d39-dcd1-cdf1574416f6"
      },
      "source": [
        "#Spliting the domains\n",
        "domain = []\n",
        "for id in mailIDs:\n",
        "  domain.append(id.split('@')[1])\n",
        "  \n",
        "#Spliting the domain names from domains\n",
        "finalList = []\n",
        "for d in domain:\n",
        "  finalList.append(d.split('.')[0])\n",
        "finalList"
      ],
      "execution_count": 13,
      "outputs": [
        {
          "output_type": "execute_result",
          "data": {
            "text/plain": [
              "['gmail',\n",
              " 'outlook',\n",
              " 'gov',\n",
              " 'gmail',\n",
              " 'yahoo',\n",
              " 'gov',\n",
              " 'outlook',\n",
              " 'yahoo',\n",
              " 'gov',\n",
              " 'yahoo',\n",
              " 'yahoo',\n",
              " 'yahoo',\n",
              " 'outlook',\n",
              " 'gmail',\n",
              " 'yahoo',\n",
              " 'gov',\n",
              " 'outlook',\n",
              " 'gov',\n",
              " 'gov',\n",
              " 'gmail',\n",
              " 'gmail',\n",
              " 'gmail',\n",
              " 'yahoo',\n",
              " 'outlook',\n",
              " 'gov',\n",
              " 'outlook',\n",
              " 'gov',\n",
              " 'gov',\n",
              " 'yahoo',\n",
              " 'gov',\n",
              " 'outlook',\n",
              " 'gmail',\n",
              " 'yahoo',\n",
              " 'gmail',\n",
              " 'yahoo',\n",
              " 'gmail',\n",
              " 'yahoo',\n",
              " 'outlook',\n",
              " 'yahoo',\n",
              " 'gmail',\n",
              " 'yahoo',\n",
              " 'gmail',\n",
              " 'gov',\n",
              " 'yahoo',\n",
              " 'yahoo',\n",
              " 'outlook',\n",
              " 'outlook',\n",
              " 'outlook',\n",
              " 'gov',\n",
              " 'outlook',\n",
              " 'outlook',\n",
              " 'outlook',\n",
              " 'gmail',\n",
              " 'yahoo',\n",
              " 'gov',\n",
              " 'outlook',\n",
              " 'outlook',\n",
              " 'gov',\n",
              " 'outlook',\n",
              " 'outlook']"
            ]
          },
          "metadata": {
            "tags": []
          },
          "execution_count": 13
        }
      ]
    },
    {
      "cell_type": "code",
      "metadata": {
        "colab": {
          "base_uri": "https://localhost:8080/"
        },
        "id": "ayzrQVd_EA3w",
        "outputId": "f9568778-f054-4dee-a8f5-7860571958a9"
      },
      "source": [
        "finalList"
      ],
      "execution_count": 14,
      "outputs": [
        {
          "output_type": "execute_result",
          "data": {
            "text/plain": [
              "['gmail',\n",
              " 'outlook',\n",
              " 'gov',\n",
              " 'gmail',\n",
              " 'yahoo',\n",
              " 'gov',\n",
              " 'outlook',\n",
              " 'yahoo',\n",
              " 'gov',\n",
              " 'yahoo',\n",
              " 'yahoo',\n",
              " 'yahoo',\n",
              " 'outlook',\n",
              " 'gmail',\n",
              " 'yahoo',\n",
              " 'gov',\n",
              " 'outlook',\n",
              " 'gov',\n",
              " 'gov',\n",
              " 'gmail',\n",
              " 'gmail',\n",
              " 'gmail',\n",
              " 'yahoo',\n",
              " 'outlook',\n",
              " 'gov',\n",
              " 'outlook',\n",
              " 'gov',\n",
              " 'gov',\n",
              " 'yahoo',\n",
              " 'gov',\n",
              " 'outlook',\n",
              " 'gmail',\n",
              " 'yahoo',\n",
              " 'gmail',\n",
              " 'yahoo',\n",
              " 'gmail',\n",
              " 'yahoo',\n",
              " 'outlook',\n",
              " 'yahoo',\n",
              " 'gmail',\n",
              " 'yahoo',\n",
              " 'gmail',\n",
              " 'gov',\n",
              " 'yahoo',\n",
              " 'yahoo',\n",
              " 'outlook',\n",
              " 'outlook',\n",
              " 'outlook',\n",
              " 'gov',\n",
              " 'outlook',\n",
              " 'outlook',\n",
              " 'outlook',\n",
              " 'gmail',\n",
              " 'yahoo',\n",
              " 'gov',\n",
              " 'outlook',\n",
              " 'outlook',\n",
              " 'gov',\n",
              " 'outlook',\n",
              " 'outlook']"
            ]
          },
          "metadata": {
            "tags": []
          },
          "execution_count": 14
        }
      ]
    },
    {
      "cell_type": "code",
      "metadata": {
        "colab": {
          "base_uri": "https://localhost:8080/"
        },
        "id": "mW2oC_VmFKXJ",
        "outputId": "c1019c07-62b9-4e0e-b7d9-6113ba1b448f"
      },
      "source": [
        "domains = {'gmail':0,'outlook':0,'gov':0,'yahoo':0}\n",
        "for domain in finalList:\n",
        "  domains[domain]+=1\n",
        "domains"
      ],
      "execution_count": 15,
      "outputs": [
        {
          "output_type": "execute_result",
          "data": {
            "text/plain": [
              "{'gmail': 12, 'gov': 14, 'outlook': 18, 'yahoo': 16}"
            ]
          },
          "metadata": {
            "tags": []
          },
          "execution_count": 15
        }
      ]
    },
    {
      "cell_type": "code",
      "metadata": {
        "id": "05Wn9bzAGAfP"
      },
      "source": [
        ""
      ],
      "execution_count": null,
      "outputs": []
    }
  ]
}