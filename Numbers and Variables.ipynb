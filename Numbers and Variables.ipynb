{
 "cells": [
  {
   "cell_type": "code",
   "execution_count": 1,
   "id": "b8b46c2e",
   "metadata": {},
   "outputs": [
    {
     "data": {
      "text/plain": [
       "12"
      ]
     },
     "execution_count": 1,
     "metadata": {},
     "output_type": "execute_result"
    }
   ],
   "source": [
    "7+5"
   ]
  },
  {
   "cell_type": "code",
   "execution_count": 2,
   "id": "bcb159f5",
   "metadata": {},
   "outputs": [
    {
     "data": {
      "text/plain": [
       "16"
      ]
     },
     "execution_count": 2,
     "metadata": {},
     "output_type": "execute_result"
    }
   ],
   "source": [
    "2 ** 4"
   ]
  },
  {
   "cell_type": "code",
   "execution_count": 3,
   "id": "cc2f1e69",
   "metadata": {},
   "outputs": [],
   "source": [
    "a = 5"
   ]
  },
  {
   "cell_type": "code",
   "execution_count": 4,
   "id": "f1614415",
   "metadata": {},
   "outputs": [
    {
     "data": {
      "text/plain": [
       "35"
      ]
     },
     "execution_count": 4,
     "metadata": {},
     "output_type": "execute_result"
    }
   ],
   "source": [
    "a*7"
   ]
  },
  {
   "cell_type": "code",
   "execution_count": 5,
   "id": "87a8b72e",
   "metadata": {},
   "outputs": [],
   "source": [
    "myName = \"Pratyush Sahu\""
   ]
  },
  {
   "cell_type": "code",
   "execution_count": 6,
   "id": "14d5c906",
   "metadata": {},
   "outputs": [
    {
     "name": "stdout",
     "output_type": "stream",
     "text": [
      "Pratyush Sahu\n"
     ]
    }
   ],
   "source": [
    "print(myName)"
   ]
  },
  {
   "cell_type": "code",
   "execution_count": 7,
   "id": "d4c25c01",
   "metadata": {},
   "outputs": [],
   "source": [
    "b = a+a-9"
   ]
  },
  {
   "cell_type": "code",
   "execution_count": 8,
   "id": "ddcf94ab",
   "metadata": {},
   "outputs": [
    {
     "name": "stdout",
     "output_type": "stream",
     "text": [
      "1\n"
     ]
    }
   ],
   "source": [
    "print (b)"
   ]
  },
  {
   "cell_type": "code",
   "execution_count": 9,
   "id": "e34b6f95",
   "metadata": {},
   "outputs": [],
   "source": [
    "income = 300"
   ]
  },
  {
   "cell_type": "code",
   "execution_count": 10,
   "id": "4d01f9b2",
   "metadata": {},
   "outputs": [],
   "source": [
    "tax = 5"
   ]
  },
  {
   "cell_type": "code",
   "execution_count": 11,
   "id": "667ffd12",
   "metadata": {},
   "outputs": [],
   "source": [
    "Net = income - (income*tax/100)"
   ]
  },
  {
   "cell_type": "code",
   "execution_count": 12,
   "id": "ec393dce",
   "metadata": {},
   "outputs": [
    {
     "name": "stdout",
     "output_type": "stream",
     "text": [
      "285.0\n"
     ]
    }
   ],
   "source": [
    "print(Net)"
   ]
  },
  {
   "cell_type": "code",
   "execution_count": null,
   "id": "81c5641c",
   "metadata": {},
   "outputs": [],
   "source": []
  }
 ],
 "metadata": {
  "kernelspec": {
   "display_name": "Python 3",
   "language": "python",
   "name": "python3"
  },
  "language_info": {
   "codemirror_mode": {
    "name": "ipython",
    "version": 3
   },
   "file_extension": ".py",
   "mimetype": "text/x-python",
   "name": "python",
   "nbconvert_exporter": "python",
   "pygments_lexer": "ipython3",
   "version": "3.8.10"
  }
 },
 "nbformat": 4,
 "nbformat_minor": 5
}
