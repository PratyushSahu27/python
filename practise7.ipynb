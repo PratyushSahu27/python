{
  "nbformat": 4,
  "nbformat_minor": 0,
  "metadata": {
    "colab": {
      "name": "practise7.ipynb",
      "provenance": [],
      "authorship_tag": "ABX9TyOgz5dDtsWKS0mO8ov7O2GK",
      "include_colab_link": true
    },
    "kernelspec": {
      "name": "python3",
      "display_name": "Python 3"
    },
    "language_info": {
      "name": "python"
    }
  },
  "cells": [
    {
      "cell_type": "markdown",
      "metadata": {
        "id": "view-in-github",
        "colab_type": "text"
      },
      "source": [
        "<a href=\"https://colab.research.google.com/github/PratyushSahu27/python/blob/main/practise7.ipynb\" target=\"_parent\"><img src=\"https://colab.research.google.com/assets/colab-badge.svg\" alt=\"Open In Colab\"/></a>"
      ]
    },
    {
      "cell_type": "code",
      "metadata": {
        "colab": {
          "base_uri": "https://localhost:8080/"
        },
        "id": "dFKYvw8Mv2Wx",
        "outputId": "fb2564ef-794b-4d24-e9bb-0e566c8921bf"
      },
      "source": [
        "x = int(input(\"Enter x\"))\n",
        "print('x is less than 10' if x<10 else 'x is more than 10')"
      ],
      "execution_count": null,
      "outputs": [
        {
          "output_type": "stream",
          "text": [
            "Enter x15\n",
            "x is more than 10\n"
          ],
          "name": "stdout"
        }
      ]
    },
    {
      "cell_type": "code",
      "metadata": {
        "id": "2nYiVWQG1nlA",
        "colab": {
          "base_uri": "https://localhost:8080/"
        },
        "outputId": "df9925b3-3b11-4347-ca3f-3e5bd44005a6"
      },
      "source": [
        "high = True\n",
        "low = False\n",
        "lak = True\n",
        "if high or low and not lak:\n",
        "    print(\"Hello world\\n GG man\")\n",
        "else:\n",
        "    print(\"Bye!!!!!!!\")\n",
        "\n"
      ],
      "execution_count": 6,
      "outputs": [
        {
          "output_type": "stream",
          "text": [
            "Hello world\n",
            " GG man\n"
          ],
          "name": "stdout"
        }
      ]
    },
    {
      "cell_type": "code",
      "metadata": {
        "colab": {
          "base_uri": "https://localhost:8080/",
          "height": 166
        },
        "id": "mzvkerwq5smn",
        "outputId": "da72f540-5f40-4b1d-b414-f1b4d89796f6"
      },
      "source": [
        "ord('bag')"
      ],
      "execution_count": 7,
      "outputs": [
        {
          "output_type": "error",
          "ename": "TypeError",
          "evalue": "ignored",
          "traceback": [
            "\u001b[0;31m---------------------------------------------------------------------------\u001b[0m",
            "\u001b[0;31mTypeError\u001b[0m                                 Traceback (most recent call last)",
            "\u001b[0;32m<ipython-input-7-0117791ddfe0>\u001b[0m in \u001b[0;36m<module>\u001b[0;34m()\u001b[0m\n\u001b[0;32m----> 1\u001b[0;31m \u001b[0mord\u001b[0m\u001b[0;34m(\u001b[0m\u001b[0;34m'bag'\u001b[0m\u001b[0;34m)\u001b[0m\u001b[0;34m\u001b[0m\u001b[0;34m\u001b[0m\u001b[0m\n\u001b[0m",
            "\u001b[0;31mTypeError\u001b[0m: ord() expected a character, but string of length 3 found"
          ]
        }
      ]
    },
    {
      "cell_type": "code",
      "metadata": {
        "colab": {
          "base_uri": "https://localhost:8080/"
        },
        "id": "sjWsx1yw91kU",
        "outputId": "0709145f-0002-47c7-cd99-6d8b1ffebc50"
      },
      "source": [
        "ord(\"b\")"
      ],
      "execution_count": 8,
      "outputs": [
        {
          "output_type": "execute_result",
          "data": {
            "text/plain": [
              "98"
            ]
          },
          "metadata": {},
          "execution_count": 8
        }
      ]
    },
    {
      "cell_type": "code",
      "metadata": {
        "colab": {
          "base_uri": "https://localhost:8080/"
        },
        "id": "v9-fGZue94wE",
        "outputId": "398467f2-061a-481a-fb6d-7fc3649ec178"
      },
      "source": [
        "ord('B')"
      ],
      "execution_count": 9,
      "outputs": [
        {
          "output_type": "execute_result",
          "data": {
            "text/plain": [
              "66"
            ]
          },
          "metadata": {},
          "execution_count": 9
        }
      ]
    },
    {
      "cell_type": "code",
      "metadata": {
        "colab": {
          "base_uri": "https://localhost:8080/"
        },
        "id": "yEKgWxan968U",
        "outputId": "d2206ed9-05d4-4410-fce9-fde349958e05"
      },
      "source": [
        "'bag' > 'Air'"
      ],
      "execution_count": 10,
      "outputs": [
        {
          "output_type": "execute_result",
          "data": {
            "text/plain": [
              "True"
            ]
          },
          "metadata": {},
          "execution_count": 10
        }
      ]
    },
    {
      "cell_type": "code",
      "metadata": {
        "colab": {
          "base_uri": "https://localhost:8080/"
        },
        "id": "KTJK8ywr-iiV",
        "outputId": "50eac022-d5b1-4777-f427-b52745f8ebe0"
      },
      "source": [
        "'bag' > 'cat'"
      ],
      "execution_count": 11,
      "outputs": [
        {
          "output_type": "execute_result",
          "data": {
            "text/plain": [
              "False"
            ]
          },
          "metadata": {},
          "execution_count": 11
        }
      ]
    },
    {
      "cell_type": "code",
      "metadata": {
        "colab": {
          "base_uri": "https://localhost:8080/"
        },
        "id": "--LSJ0cf-miF",
        "outputId": "e16c0b7a-3e3b-4605-f0f3-e1fbb2f59f2e"
      },
      "source": [
        "'bag' > 'bat'"
      ],
      "execution_count": 12,
      "outputs": [
        {
          "output_type": "execute_result",
          "data": {
            "text/plain": [
              "False"
            ]
          },
          "metadata": {},
          "execution_count": 12
        }
      ]
    },
    {
      "cell_type": "code",
      "metadata": {
        "colab": {
          "base_uri": "https://localhost:8080/"
        },
        "id": "60NGO0mz-wlt",
        "outputId": "5e328e5f-42b7-4070-f807-e36cf2371fe5"
      },
      "source": [
        "'bat' > 'bag'"
      ],
      "execution_count": 13,
      "outputs": [
        {
          "output_type": "execute_result",
          "data": {
            "text/plain": [
              "True"
            ]
          },
          "metadata": {},
          "execution_count": 13
        }
      ]
    },
    {
      "cell_type": "code",
      "metadata": {
        "colab": {
          "base_uri": "https://localhost:8080/"
        },
        "id": "COeGOHCa-zct",
        "outputId": "a2500cfa-9a07-4e51-a9ca-ee0641356251"
      },
      "source": [
        "for i in 'Namaste World!':\n",
        "    print(i)"
      ],
      "execution_count": 15,
      "outputs": [
        {
          "output_type": "stream",
          "text": [
            "N\n",
            "a\n",
            "m\n",
            "a\n",
            "s\n",
            "t\n",
            "e\n",
            " \n",
            "W\n",
            "o\n",
            "r\n",
            "l\n",
            "d\n",
            "!\n"
          ],
          "name": "stdout"
        }
      ]
    },
    {
      "cell_type": "code",
      "metadata": {
        "id": "UQjap1zm_foN"
      },
      "source": [
        "a = 'attempted 3 times and failed'\n",
        "ar = a.split()"
      ],
      "execution_count": 16,
      "outputs": []
    },
    {
      "cell_type": "code",
      "metadata": {
        "colab": {
          "base_uri": "https://localhost:8080/"
        },
        "id": "GODYilVC_ubk",
        "outputId": "f9fd5943-d93e-4d36-d6a9-eaabf744e99a"
      },
      "source": [
        "print(ar)"
      ],
      "execution_count": 17,
      "outputs": [
        {
          "output_type": "stream",
          "text": [
            "['attempted', '3', 'times', 'and', 'failed']\n"
          ],
          "name": "stdout"
        }
      ]
    },
    {
      "cell_type": "code",
      "metadata": {
        "id": "o5DSrk3O_wUM"
      },
      "source": [
        "ar = a.split('t')"
      ],
      "execution_count": 18,
      "outputs": []
    },
    {
      "cell_type": "code",
      "metadata": {
        "colab": {
          "base_uri": "https://localhost:8080/"
        },
        "id": "R8LS0C5WAiIM",
        "outputId": "a895e6f3-10f1-410e-a6ae-edc35f500f1c"
      },
      "source": [
        "print(ar)"
      ],
      "execution_count": 19,
      "outputs": [
        {
          "output_type": "stream",
          "text": [
            "['a', '', 'emp', 'ed 3 ', 'imes and failed']\n"
          ],
          "name": "stdout"
        }
      ]
    },
    {
      "cell_type": "code",
      "metadata": {
        "id": "Dz1qX3cFAjKk"
      },
      "source": [
        "arr = (5,39385,63,7,3,7,9,67,4,3,7,9,7,434,65,4,3,5,6,7654,3,4)"
      ],
      "execution_count": 20,
      "outputs": []
    },
    {
      "cell_type": "code",
      "metadata": {
        "colab": {
          "base_uri": "https://localhost:8080/"
        },
        "id": "Wvzu565qBJ00",
        "outputId": "bf0f0491-8d60-4eec-a703-ff99fe60441d"
      },
      "source": [
        "for i in range(8):\n",
        "    print(arr[i])"
      ],
      "execution_count": 21,
      "outputs": [
        {
          "output_type": "stream",
          "text": [
            "5\n",
            "39385\n",
            "63\n",
            "7\n",
            "3\n",
            "7\n",
            "9\n",
            "67\n"
          ],
          "name": "stdout"
        }
      ]
    },
    {
      "cell_type": "code",
      "metadata": {
        "colab": {
          "base_uri": "https://localhost:8080/"
        },
        "id": "D6rW6Pw3BOU9",
        "outputId": "693861ed-43a4-4c50-fa32-87dd781c5777"
      },
      "source": [
        "for number in range(5):\n",
        "    print('Number: ',number,number*'.')"
      ],
      "execution_count": 23,
      "outputs": [
        {
          "output_type": "stream",
          "text": [
            "Number:  0 \n",
            "Number:  1 .\n",
            "Number:  2 ..\n",
            "Number:  3 ...\n",
            "Number:  4 ....\n"
          ],
          "name": "stdout"
        }
      ]
    },
    {
      "cell_type": "code",
      "metadata": {
        "colab": {
          "base_uri": "https://localhost:8080/"
        },
        "id": "wLfF0BWgDNAM",
        "outputId": "d5cc5992-4e69-4b72-e2d3-f2f256a0072b"
      },
      "source": [
        "successful = False\n",
        "for number in range(3):\n",
        "    print('attempt')\n",
        "    if successful:\n",
        "        print('Successful')\n",
        "        break\n",
        "else:\n",
        "    print('attempted 3 times and failed')"
      ],
      "execution_count": 24,
      "outputs": [
        {
          "output_type": "stream",
          "text": [
            "attempt\n",
            "attempt\n",
            "attempt\n",
            "attempted 3 times and failed\n"
          ],
          "name": "stdout"
        }
      ]
    },
    {
      "cell_type": "code",
      "metadata": {
        "colab": {
          "base_uri": "https://localhost:8080/"
        },
        "id": "KZHEfZLTHApT",
        "outputId": "c0199129-3e32-4b1c-fba2-fec8d4fad546"
      },
      "source": [
        "i = 0 \n",
        "while i < 7:\n",
        "    i += 1\n",
        "    if i == 3:\n",
        "        continue\n",
        "    print(i)   "
      ],
      "execution_count": 25,
      "outputs": [
        {
          "output_type": "stream",
          "text": [
            "1\n",
            "2\n",
            "4\n",
            "5\n",
            "6\n",
            "7\n"
          ],
          "name": "stdout"
        }
      ]
    },
    {
      "cell_type": "code",
      "metadata": {
        "id": "Yc2sjRbqHE4L"
      },
      "source": [
        ""
      ],
      "execution_count": null,
      "outputs": []
    }
  ]
}