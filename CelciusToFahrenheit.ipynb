{
  "nbformat": 4,
  "nbformat_minor": 0,
  "metadata": {
    "colab": {
      "name": "CelciusToFahrenheit.ipynb",
      "provenance": [],
      "authorship_tag": "ABX9TyObP1xkNDLkcbByJ86LswJW",
      "include_colab_link": true
    },
    "kernelspec": {
      "name": "python3",
      "display_name": "Python 3"
    },
    "language_info": {
      "name": "python"
    }
  },
  "cells": [
    {
      "cell_type": "markdown",
      "metadata": {
        "id": "view-in-github",
        "colab_type": "text"
      },
      "source": [
        "<a href=\"https://colab.research.google.com/github/PratyushSahu27/python/blob/main/CelciusToFahrenheit.ipynb\" target=\"_parent\"><img src=\"https://colab.research.google.com/assets/colab-badge.svg\" alt=\"Open In Colab\"/></a>"
      ]
    },
    {
      "cell_type": "code",
      "metadata": {
        "id": "MupCUORY6FJg",
        "colab": {
          "base_uri": "https://localhost:8080/"
        },
        "outputId": "933f42b4-0e56-4cd0-f2d8-bcc21d6cde8e"
      },
      "source": [
        "print('Celcius to fahrenheit converter')"
      ],
      "execution_count": null,
      "outputs": [
        {
          "output_type": "stream",
          "name": "stdout",
          "text": [
            "Enter a temperature in ceclius to convert into fahrenheit\n"
          ]
        }
      ]
    },
    {
      "cell_type": "code",
      "metadata": {
        "colab": {
          "base_uri": "https://localhost:8080/"
        },
        "id": "RlXN7Z49fWoR",
        "outputId": "b78accea-c4d9-4198-8504-8fba1953021d"
      },
      "source": [
        "temp = float(input())\n",
        "temp = (temp*9/5)+32\n",
        "print('{} F'.format(temp))"
      ],
      "execution_count": null,
      "outputs": [
        {
          "output_type": "stream",
          "name": "stdout",
          "text": [
            "37\n",
            "98.6 F\n"
          ]
        }
      ]
    },
    {
      "cell_type": "code",
      "metadata": {
        "id": "H3-cmMpKfxfw"
      },
      "source": [
        "|"
      ],
      "execution_count": null,
      "outputs": []
    }
  ]
}