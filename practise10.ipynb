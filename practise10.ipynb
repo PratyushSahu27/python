{
  "nbformat": 4,
  "nbformat_minor": 0,
  "metadata": {
    "colab": {
      "name": "practise10.ipynb",
      "provenance": [],
      "authorship_tag": "ABX9TyOllcGlqnY5ZcT4GpcXzkIJ",
      "include_colab_link": true
    },
    "kernelspec": {
      "name": "python3",
      "display_name": "Python 3"
    },
    "language_info": {
      "name": "python"
    }
  },
  "cells": [
    {
      "cell_type": "markdown",
      "metadata": {
        "id": "view-in-github",
        "colab_type": "text"
      },
      "source": [
        "<a href=\"https://colab.research.google.com/github/PratyushSahu27/python/blob/main/practise10.ipynb\" target=\"_parent\"><img src=\"https://colab.research.google.com/assets/colab-badge.svg\" alt=\"Open In Colab\"/></a>"
      ]
    },
    {
      "cell_type": "code",
      "metadata": {
        "colab": {
          "base_uri": "https://localhost:8080/"
        },
        "id": "GoDBQ6Nhsq-V",
        "outputId": "c6dab7a6-ec7a-443f-c37a-3e64735de2b9"
      },
      "source": [
        "am = [3,6,2,5,8,2,5,7,4]\n",
        "for index,element in enumerate(am):\n",
        "    print(index,element)"
      ],
      "execution_count": 1,
      "outputs": [
        {
          "output_type": "stream",
          "name": "stdout",
          "text": [
            "0 3\n",
            "1 6\n",
            "2 2\n",
            "3 5\n",
            "4 8\n",
            "5 2\n",
            "6 5\n",
            "7 7\n",
            "8 4\n"
          ]
        }
      ]
    },
    {
      "cell_type": "code",
      "metadata": {
        "colab": {
          "base_uri": "https://localhost:8080/"
        },
        "id": "5KQ0Y0cZtAqh",
        "outputId": "d3d06b94-b221-49eb-a3c4-b12eda4d1e5b"
      },
      "source": [
        "am"
      ],
      "execution_count": 2,
      "outputs": [
        {
          "output_type": "execute_result",
          "data": {
            "text/plain": [
              "[3, 6, 2, 5, 8, 2, 5, 7, 4]"
            ]
          },
          "metadata": {},
          "execution_count": 2
        }
      ]
    },
    {
      "cell_type": "code",
      "metadata": {
        "colab": {
          "base_uri": "https://localhost:8080/"
        },
        "id": "B3omAE6MtF4n",
        "outputId": "d1d003ec-1ed0-41c9-d2cb-8013fecb17cb"
      },
      "source": [
        "am.append('hello')\n",
        "am"
      ],
      "execution_count": 3,
      "outputs": [
        {
          "output_type": "execute_result",
          "data": {
            "text/plain": [
              "[3, 6, 2, 5, 8, 2, 5, 7, 4, 'hello']"
            ]
          },
          "metadata": {},
          "execution_count": 3
        }
      ]
    },
    {
      "cell_type": "code",
      "metadata": {
        "colab": {
          "base_uri": "https://localhost:8080/"
        },
        "id": "dtWjYsLgtLDv",
        "outputId": "d4fbef32-1a32-4aac-b268-15b42f1a1bbf"
      },
      "source": [
        "am.insert(3,(86,64))\n",
        "am"
      ],
      "execution_count": 5,
      "outputs": [
        {
          "output_type": "execute_result",
          "data": {
            "text/plain": [
              "[3, 6, 2, (86, 64), 5, 8, 2, 5, 7, 4, 'hello']"
            ]
          },
          "metadata": {},
          "execution_count": 5
        }
      ]
    },
    {
      "cell_type": "code",
      "metadata": {
        "colab": {
          "base_uri": "https://localhost:8080/"
        },
        "id": "7Ldtdm6PtlYP",
        "outputId": "b2011c73-a6ed-4ff6-ffb0-613a5de785d1"
      },
      "source": [
        "am.pop()\n",
        "am"
      ],
      "execution_count": 6,
      "outputs": [
        {
          "output_type": "execute_result",
          "data": {
            "text/plain": [
              "[3, 6, 2, (86, 64), 5, 8, 2, 5, 7, 4]"
            ]
          },
          "metadata": {},
          "execution_count": 6
        }
      ]
    },
    {
      "cell_type": "code",
      "metadata": {
        "colab": {
          "base_uri": "https://localhost:8080/"
        },
        "id": "PfZpqQ6Qt3gP",
        "outputId": "f2e37839-ae1d-4fd2-9914-122ab150d646"
      },
      "source": [
        "am.pop(2)\n",
        "am"
      ],
      "execution_count": 7,
      "outputs": [
        {
          "output_type": "execute_result",
          "data": {
            "text/plain": [
              "[3, 6, (86, 64), 5, 8, 2, 5, 7, 4]"
            ]
          },
          "metadata": {},
          "execution_count": 7
        }
      ]
    },
    {
      "cell_type": "code",
      "metadata": {
        "colab": {
          "base_uri": "https://localhost:8080/",
          "height": 166
        },
        "id": "xN0LfUzrt9ou",
        "outputId": "a42c1bfe-62e9-4b7f-d757-10366d6e6e00"
      },
      "source": [
        "am.remove(654)"
      ],
      "execution_count": 8,
      "outputs": [
        {
          "output_type": "error",
          "ename": "ValueError",
          "evalue": "ignored",
          "traceback": [
            "\u001b[0;31m---------------------------------------------------------------------------\u001b[0m",
            "\u001b[0;31mValueError\u001b[0m                                Traceback (most recent call last)",
            "\u001b[0;32m<ipython-input-8-4125960fe18e>\u001b[0m in \u001b[0;36m<module>\u001b[0;34m()\u001b[0m\n\u001b[0;32m----> 1\u001b[0;31m \u001b[0mam\u001b[0m\u001b[0;34m.\u001b[0m\u001b[0mremove\u001b[0m\u001b[0;34m(\u001b[0m\u001b[0;36m654\u001b[0m\u001b[0;34m)\u001b[0m\u001b[0;34m\u001b[0m\u001b[0;34m\u001b[0m\u001b[0m\n\u001b[0m",
            "\u001b[0;31mValueError\u001b[0m: list.remove(x): x not in list"
          ]
        }
      ]
    },
    {
      "cell_type": "code",
      "metadata": {
        "id": "wOy1rI5CuQsv"
      },
      "source": [
        "am.remove(2)"
      ],
      "execution_count": 9,
      "outputs": []
    },
    {
      "cell_type": "code",
      "metadata": {
        "colab": {
          "base_uri": "https://localhost:8080/"
        },
        "id": "NZ_MrtMduUW3",
        "outputId": "aa694654-ec46-4362-b40f-15d79e0a5e0e"
      },
      "source": [
        "am"
      ],
      "execution_count": 10,
      "outputs": [
        {
          "output_type": "execute_result",
          "data": {
            "text/plain": [
              "[3, 6, (86, 64), 5, 8, 5, 7, 4]"
            ]
          },
          "metadata": {},
          "execution_count": 10
        }
      ]
    },
    {
      "cell_type": "code",
      "metadata": {
        "colab": {
          "base_uri": "https://localhost:8080/"
        },
        "id": "DF_6bSaauU2H",
        "outputId": "ab8a22e2-3820-4669-cfd1-d08aa928a08c"
      },
      "source": [
        "am.count(5)"
      ],
      "execution_count": 11,
      "outputs": [
        {
          "output_type": "execute_result",
          "data": {
            "text/plain": [
              "2"
            ]
          },
          "metadata": {},
          "execution_count": 11
        }
      ]
    },
    {
      "cell_type": "code",
      "metadata": {
        "id": "87qHKrNt04jv"
      },
      "source": [
        ""
      ],
      "execution_count": null,
      "outputs": []
    }
  ]
}