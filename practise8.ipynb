{
  "nbformat": 4,
  "nbformat_minor": 0,
  "metadata": {
    "colab": {
      "name": "practise8.ipynb",
      "provenance": [],
      "authorship_tag": "ABX9TyPRqoP6lBWBtyeaCWyx0EpB",
      "include_colab_link": true
    },
    "kernelspec": {
      "name": "python3",
      "display_name": "Python 3"
    },
    "language_info": {
      "name": "python"
    }
  },
  "cells": [
    {
      "cell_type": "markdown",
      "metadata": {
        "id": "view-in-github",
        "colab_type": "text"
      },
      "source": [
        "<a href=\"https://colab.research.google.com/github/PratyushSahu27/python/blob/main/practise8.ipynb\" target=\"_parent\"><img src=\"https://colab.research.google.com/assets/colab-badge.svg\" alt=\"Open In Colab\"/></a>"
      ]
    },
    {
      "cell_type": "code",
      "metadata": {
        "id": "bCadOPfN6nYM"
      },
      "source": [
        "def max\n",
        "def kthLargest(arr,k):\n",
        "    if(k==1):\n",
        "        return max(arr)\n",
        "    m = max(arr)\n",
        "    if(max)\n",
        "    idx = arr.index(m)\n",
        "    arr.pop(idx)\n",
        "    return kthLargest(arr,k-1)\n",
        "\n"
      ],
      "execution_count": null,
      "outputs": []
    },
    {
      "cell_type": "code",
      "metadata": {
        "id": "70cLFs1D9UW9"
      },
      "source": [
        ""
      ],
      "execution_count": null,
      "outputs": []
    },
    {
      "cell_type": "code",
      "metadata": {
        "colab": {
          "base_uri": "https://localhost:8080/"
        },
        "id": "vyG9rrTv857G",
        "outputId": "02035646-2322-46e1-a462-c06918a7811c"
      },
      "source": [
        "lt = [2,6,4,2,1,6,8,8,3,1]\n",
        "print(kthLargest(lt,2))"
      ],
      "execution_count": null,
      "outputs": [
        {
          "output_type": "stream",
          "text": [
            "8\n"
          ],
          "name": "stdout"
        }
      ]
    },
    {
      "cell_type": "code",
      "metadata": {
        "id": "YCTmwRt49Eys"
      },
      "source": [
        "b,c,d = 2,0.7,'hello'"
      ],
      "execution_count": 1,
      "outputs": []
    },
    {
      "cell_type": "code",
      "metadata": {
        "colab": {
          "base_uri": "https://localhost:8080/"
        },
        "id": "aTMwMFUc2kz1",
        "outputId": "1fd82ba9-0b6e-4bec-8302-b0dc06605434"
      },
      "source": [
        "print(b,c,d)"
      ],
      "execution_count": 2,
      "outputs": [
        {
          "output_type": "stream",
          "name": "stdout",
          "text": [
            "2 0.7 hello\n"
          ]
        }
      ]
    },
    {
      "cell_type": "code",
      "metadata": {
        "colab": {
          "base_uri": "https://localhost:8080/"
        },
        "id": "_HS7cKJO2mrc",
        "outputId": "4efaa62e-4bb6-486b-e107-fc0477ea5f66"
      },
      "source": [
        "b=c=d=7\n",
        "print(b,c,d)"
      ],
      "execution_count": 3,
      "outputs": [
        {
          "output_type": "stream",
          "name": "stdout",
          "text": [
            "7 7 7\n"
          ]
        }
      ]
    },
    {
      "cell_type": "code",
      "metadata": {
        "id": "x-hAs58v2qp1"
      },
      "source": [
        "class complexnumber:\n",
        "    def __init__(self,real = 0,img = 0):\n",
        "        self.real = real\n",
        "        self.img = img\n",
        "\n",
        "    def display(self):\n",
        "        print(\"{0} + {1}i\".format(self.real,self.img))"
      ],
      "execution_count": 11,
      "outputs": []
    },
    {
      "cell_type": "code",
      "metadata": {
        "id": "nVew88fI4hGd"
      },
      "source": [
        "complex1 = complexnumber(5,10)"
      ],
      "execution_count": 12,
      "outputs": []
    },
    {
      "cell_type": "code",
      "metadata": {
        "colab": {
          "base_uri": "https://localhost:8080/"
        },
        "id": "GKTo37GG4yX8",
        "outputId": "c3c922ba-bf7c-4455-de57-49c95c1a1f13"
      },
      "source": [
        "complex1.display()"
      ],
      "execution_count": 13,
      "outputs": [
        {
          "output_type": "stream",
          "name": "stdout",
          "text": [
            "5 + 10i\n"
          ]
        }
      ]
    },
    {
      "cell_type": "code",
      "metadata": {
        "id": "OiIh5dSd41u8"
      },
      "source": [
        "complex2 = complexnumber(8,76)"
      ],
      "execution_count": 14,
      "outputs": []
    },
    {
      "cell_type": "code",
      "metadata": {
        "colab": {
          "base_uri": "https://localhost:8080/"
        },
        "id": "pyIIEMTO5El9",
        "outputId": "56258ea8-114f-4baf-85a7-8906f20e3303"
      },
      "source": [
        "complex2.display()"
      ],
      "execution_count": 15,
      "outputs": [
        {
          "output_type": "stream",
          "name": "stdout",
          "text": [
            "8 + 76i\n"
          ]
        }
      ]
    },
    {
      "cell_type": "code",
      "metadata": {
        "id": "uKOs1pCM5Huk"
      },
      "source": [
        "complex2.newattribute = 80"
      ],
      "execution_count": 16,
      "outputs": []
    },
    {
      "cell_type": "code",
      "metadata": {
        "colab": {
          "base_uri": "https://localhost:8080/"
        },
        "id": "JBLc6VrC5P4k",
        "outputId": "dd5d1ae0-6ecf-4920-c95a-48cd1ac51a6d"
      },
      "source": [
        "print(complex2.newattribute)"
      ],
      "execution_count": 17,
      "outputs": [
        {
          "output_type": "stream",
          "name": "stdout",
          "text": [
            "80\n"
          ]
        }
      ]
    },
    {
      "cell_type": "code",
      "metadata": {
        "id": "16-UeKXN5THk"
      },
      "source": [
        ""
      ],
      "execution_count": null,
      "outputs": []
    }
  ]
}